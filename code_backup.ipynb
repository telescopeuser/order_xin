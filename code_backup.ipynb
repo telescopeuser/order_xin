{
 "cells": [
  {
   "cell_type": "markdown",
   "metadata": {},
   "source": [
    "# 如何使用和开发微信聊天机器人的系列教程\n",
    "# A workshop to develop & use an intelligent and interactive chat-bot in WeChat"
   ]
  },
  {
   "cell_type": "markdown",
   "metadata": {},
   "source": [
    "### 导入需要用到的一些功能程序库："
   ]
  },
  {
   "cell_type": "code",
   "execution_count": null,
   "metadata": {},
   "outputs": [],
   "source": [
    "import datetime, requests, itchat\n",
    "from itchat.content import *"
   ]
  },
  {
   "cell_type": "markdown",
   "metadata": {},
   "source": [
    "### * 用微信App扫QR码图片来自动登录"
   ]
  },
  {
   "cell_type": "code",
   "execution_count": null,
   "metadata": {},
   "outputs": [],
   "source": [
    "itchat.auto_login(hotReload=True) # hotReload=True: 退出程序后暂存登陆状态。即使程序关闭，一定时间内重新开启也可以不用重新扫码。\n",
    "# itchat.auto_login(enableCmdQR=-2) # enableCmdQR=-2: 命令行显示QR图片"
   ]
  },
  {
   "cell_type": "markdown",
   "metadata": {},
   "source": [
    "### * 自定义复杂消息处理，例如：信息存档、回复群组中被@的消息"
   ]
  },
  {
   "cell_type": "code",
   "execution_count": null,
   "metadata": {},
   "outputs": [],
   "source": [
    "# interupt, then re-login\n",
    "itchat.auto_login(hotReload=True)"
   ]
  },
  {
   "cell_type": "code",
   "execution_count": null,
   "metadata": {
    "collapsed": true
   },
   "outputs": [],
   "source": [
    "\n",
    "# 在群里，如果收到@自己的文字信息，会自动回复：\n",
    "@itchat.msg_register(TEXT, isGroupChat=True)\n",
    "def text_reply(msg):\n",
    "#     if msg['isAt']:\n",
    "#         itchat.send(u'@%s\\u2005I received: %s' % (msg['ActualNickName'], msg['Content']), msg['FromUserName'])\n",
    "\n",
    "    print(' ')\n",
    "    print('#### Debug #### inside @itchat.msg_register(TEXT, isGroupChat=True)')\n",
    "    \n",
    "    if msg['Content'] == '谢谢':\n",
    "        print('#### Debug #### 谢谢')\n",
    "        print('#### Debug #### ActualNickName = ', msg['ActualNickName'])\n",
    "        print('#### Debug #### Content        = ', msg['Content'])\n",
    "        print('#### Debug #### FromUserName   = ', msg['FromUserName'])\n",
    "        itchat.send(u'不客气', msg['FromUserName'])\n",
    "        \n",
    "    if msg['Content'] == '应急预案':\n",
    "        print('#### Debug #### 应急预案')\n",
    "        print('#### Debug #### ActualNickName = ', msg['ActualNickName'])\n",
    "        print('#### Debug #### Content        = ', msg['Content'])\n",
    "        print('#### Debug #### FromUserName   = ', msg['FromUserName'])\n",
    "        itchat.send_file('./reference/YingJiYuAn.docx', msg['FromUserName']) \n",
    "        \n",
    "    if msg['Content'] == '图片':\n",
    "        print('#### Debug #### 图片')\n",
    "        print('#### Debug #### ActualNickName = ', msg['ActualNickName'])\n",
    "        print('#### Debug #### Content        = ', msg['Content'])\n",
    "        print('#### Debug #### FromUserName   = ', msg['FromUserName'])\n",
    "        itchat.send_image('./reference/good_night.jpg',  msg['FromUserName']) \n",
    "        \n",
    "        "
   ]
  },
  {
   "cell_type": "code",
   "execution_count": null,
   "metadata": {
    "scrolled": false
   },
   "outputs": [],
   "source": [
    "itchat.run()"
   ]
  },
  {
   "cell_type": "code",
   "execution_count": null,
   "metadata": {
    "collapsed": true
   },
   "outputs": [],
   "source": []
  },
  {
   "cell_type": "code",
   "execution_count": null,
   "metadata": {},
   "outputs": [],
   "source": [
    "# interupt, then logout\n",
    "itchat.logout() # 安全退出"
   ]
  },
  {
   "cell_type": "markdown",
   "metadata": {},
   "source": [
    "<img src='http://www.kudosdata.com/wp-content/uploads/2016/11/cropped-KudosLogo1.png' width=30% style=\"float: right;\">\n",
    "<img src='reference/WeChat_SamGu_QR.png' width=10% style=\"float: left;\">\n",
    "\n"
   ]
  }
 ],
 "metadata": {
  "kernelspec": {
   "display_name": "Python 3",
   "language": "python",
   "name": "python3"
  },
  "language_info": {
   "codemirror_mode": {
    "name": "ipython",
    "version": 3
   },
   "file_extension": ".py",
   "mimetype": "text/x-python",
   "name": "python",
   "nbconvert_exporter": "python",
   "pygments_lexer": "ipython3",
   "version": "3.5.1"
  }
 },
 "nbformat": 4,
 "nbformat_minor": 2
}
